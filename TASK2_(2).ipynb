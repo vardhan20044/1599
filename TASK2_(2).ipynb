{
  "nbformat": 4,
  "nbformat_minor": 0,
  "metadata": {
    "colab": {
      "provenance": [],
      "include_colab_link": true
    },
    "kernelspec": {
      "name": "python3",
      "display_name": "Python 3"
    },
    "language_info": {
      "name": "python"
    }
  },
  "cells": [
    {
      "cell_type": "markdown",
      "metadata": {
        "id": "view-in-github",
        "colab_type": "text"
      },
      "source": [
        "<a href=\"https://colab.research.google.com/github/vardhan20044/1599/blob/main/TASK2_(2).ipynb\" target=\"_parent\"><img src=\"https://colab.research.google.com/assets/colab-badge.svg\" alt=\"Open In Colab\"/></a>"
      ]
    },
    {
      "cell_type": "markdown",
      "source": [
        "**HardCoding Variables**"
      ],
      "metadata": {
        "id": "Cl5XM80lNqsm"
      }
    },
    {
      "cell_type": "code",
      "execution_count": null,
      "metadata": {
        "id": "YUc3rAUcJ8oD"
      },
      "outputs": [],
      "source": [
        "def Tempearture_modeling(a,b,c,time):\n",
        "  temperature = a*time**2 + b*time + c\n",
        "  return temperature\n"
      ]
    },
    {
      "cell_type": "code",
      "source": [
        "a,b,c=0.1,2,10\n",
        "time = 5"
      ],
      "metadata": {
        "id": "0oq1_iS-KotX"
      },
      "execution_count": null,
      "outputs": []
    },
    {
      "cell_type": "code",
      "source": [
        "print(\"Hard-coded variables for weather modeling\")\n",
        "print(\"Tempearture for hardcoded coefficients at time\",time,\"hours:\",Tempearture_modeling(a,b,c,time))"
      ],
      "metadata": {
        "colab": {
          "base_uri": "https://localhost:8080/"
        },
        "id": "-CAWl-gIKuzG",
        "outputId": "e223a768-aa85-41b0-b6d2-ffb838d831f7"
      },
      "execution_count": null,
      "outputs": [
        {
          "output_type": "stream",
          "name": "stdout",
          "text": [
            "Hard-coded variables for weather modeling\n",
            "Tempearture for hardcoded coefficients at time 5 hours: 22.5\n"
          ]
        }
      ]
    },
    {
      "cell_type": "markdown",
      "source": [
        "**Accepting variables via keyboard input**"
      ],
      "metadata": {
        "id": "HaR7jRTjNxEF"
      }
    },
    {
      "cell_type": "code",
      "source": [
        "a= float(input(\"Enter coefficient of a:\"))\n",
        "b= float(input(\"Enter coefficient of b:\"))\n",
        "c= float(input(\"Enter coefficient of c:\"))"
      ],
      "metadata": {
        "colab": {
          "base_uri": "https://localhost:8080/"
        },
        "id": "DApwB364N5du",
        "outputId": "0f001007-92ab-4dbe-c9ce-2f284b8a361c"
      },
      "execution_count": null,
      "outputs": [
        {
          "name": "stdout",
          "output_type": "stream",
          "text": [
            "Enter coefficient of a:0.1\n",
            "Enter coefficient of b:3\n",
            "Enter coefficient of c:10\n"
          ]
        }
      ]
    },
    {
      "cell_type": "code",
      "source": [
        "time=float(input(\"enter time\"))"
      ],
      "metadata": {
        "colab": {
          "base_uri": "https://localhost:8080/"
        },
        "id": "KiIQGw8DOIr3",
        "outputId": "7bc05611-92a6-43f9-f5ac-40a53366a246"
      },
      "execution_count": null,
      "outputs": [
        {
          "name": "stdout",
          "output_type": "stream",
          "text": [
            "enter time4\n"
          ]
        }
      ]
    },
    {
      "cell_type": "code",
      "source": [
        "print(\"Hard-coded variables for weather modeling\")\n",
        "print(\"Tempearture for hardcoded coefficients at time\",time,\"hours:\",Tempearture_modeling(a,b,c,time))"
      ],
      "metadata": {
        "colab": {
          "base_uri": "https://localhost:8080/"
        },
        "id": "AgQwc7mtOm3O",
        "outputId": "549bd509-21ab-4287-a5a2-ee3149da55e6"
      },
      "execution_count": null,
      "outputs": [
        {
          "output_type": "stream",
          "name": "stdout",
          "text": [
            "Hard-coded variables for weather modeling\n",
            "Tempearture for hardcoded coefficients at time 4.0 hours: 23.6\n"
          ]
        }
      ]
    },
    {
      "cell_type": "markdown",
      "source": [
        "**Reading Variable From a File**"
      ],
      "metadata": {
        "id": "LOQatLI_Os8V"
      }
    },
    {
      "cell_type": "code",
      "source": [
        "def read_from_file(file_path):\n",
        "    with open(file_path, 'r') as file:\n",
        "        lines = file.readlines()\n",
        "    coefficients = [tuple(map(float, line.strip().split(','))) for line in lines]\n",
        "    return coefficients"
      ],
      "metadata": {
        "id": "6HYi8dbHOwpd"
      },
      "execution_count": null,
      "outputs": []
    },
    {
      "cell_type": "markdown",
      "source": [
        "**processing a single set of inputs.**"
      ],
      "metadata": {
        "id": "gHo8aEMrT1nG"
      }
    },
    {
      "cell_type": "code",
      "source": [
        "coefficients= read_from_file('/content/untitled1.txt')\n",
        "a, b, c, time = coefficients[0]\n",
        "temperature = Tempearture_modeling(a, b, c, time)\n",
        "print(\"Hard-coded variables for weather modeling\")\n",
        "print(\"Tempearture for hardcoded coefficients at time\",time,\"hours:\",Tempearture_modeling(a,b,c,time))"
      ],
      "metadata": {
        "colab": {
          "base_uri": "https://localhost:8080/"
        },
        "id": "JhoklLbvPdwX",
        "outputId": "912dca37-02be-42be-87c0-50dd5519c635"
      },
      "execution_count": null,
      "outputs": [
        {
          "output_type": "stream",
          "name": "stdout",
          "text": [
            "Hard-coded variables for weather modeling\n",
            "Tempearture for hardcoded coefficients at time 4.0 hours: 23.6\n"
          ]
        }
      ]
    },
    {
      "cell_type": "markdown",
      "source": [
        "**processing multiple set of inputs**"
      ],
      "metadata": {
        "id": "VcjjGhFtUPA3"
      }
    },
    {
      "cell_type": "code",
      "source": [
        "for idx, (a,b,c,time) in enumerate(coefficients):\n",
        "  temperature = Tempearture_modeling(a, b, c, time)\n",
        "  print(\"Tempearture for hardcoded coefficients at time\",time,\"hours:\",Tempearture_modeling(a,b,c,time))"
      ],
      "metadata": {
        "colab": {
          "base_uri": "https://localhost:8080/"
        },
        "id": "kpTyYK7aQszY",
        "outputId": "c663c5cb-0d4e-4d45-af69-f869b0ee670d"
      },
      "execution_count": null,
      "outputs": [
        {
          "output_type": "stream",
          "name": "stdout",
          "text": [
            "Tempearture for hardcoded coefficients at time 4.0 hours: 23.6\n",
            "Tempearture for hardcoded coefficients at time 5.0 hours: 37.0\n"
          ]
        }
      ]
    }
  ]
}